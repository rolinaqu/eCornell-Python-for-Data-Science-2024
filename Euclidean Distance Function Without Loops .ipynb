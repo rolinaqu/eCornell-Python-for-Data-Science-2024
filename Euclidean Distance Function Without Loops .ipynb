{
 "cells": [
  {
   "cell_type": "markdown",
   "metadata": {
    "deletable": false,
    "editable": false,
    "nbgrader": {
     "checksum": "03324d5843799184f169c753170bf1d1",
     "grade": false,
     "grade_id": "cell-b707a0f33997e5a6",
     "locked": true,
     "schema_version": 1,
     "solution": false
    }
   },
   "source": [
    "<h2>About this Exercise</h2>\n",
    "<p>In the preceding activity, you derived a Euclidean distance matrix. Now that you have calculated the distance between points in terms of matrix operations, you are ready to write an efficient program that leverages NumPy's optimized functions. In this code exercise, rather than using loops, you will write a function to compute Euclidean distances between sets of vectors using NumPy functions.</p>\n",
    "\n",
    "<h3>Evaluation</h3>\n",
    "\n",
    "<p><strong>You must complete this exercise in order to unlock the final project in this module. Your score on this assignment will not be included in the final grade calculation.</strong><p>\n",
    "\n",
    "<p>You are expected to write code where you see <em># YOUR CODE HERE</em> within the cells of this notebook. Not all cells will be graded; code input cells followed by cells marked with <em>#Autograder test cell</em> will be graded. Upon submitting your work, the code you write at these designated positions will be assessed using an \"autograder\" that will run all test cells to assess your code. You will receive feedback from the autograder that will identify any errors in your code. Use this feedback to improve your code if you need to resubmit. Be sure not to change the names of any provided functions, classes, or variables within the existing code cells, as this will interfere with the autograder. Also, remember to execute all code cells sequentially, not just those you’ve edited, to ensure your code runs properly.</p>\n",
    "    \n",
    "<p>You can resubmit your work as many times as necessary before the submission deadline. If you experience difficulty or have questions about this exercise, use the Q&A discussion board to engage with your peers or seek assistance from the instructor.<p>\n",
    "\n",
    "<p>Before starting your work, please review <a href=\"https://s3.amazonaws.com/ecornell/global/eCornellPlagiarismPolicy.pdf\">eCornell's policy regarding plagiarism</a> (the presentation of someone else's work as your own without source credit).</p>\n",
    "\n",
    "<h3>Submit Code for Autograder Feedback</h3>\n",
    "\n",
    "<p>Once you have completed your work on this notebook, you will submit your code for autograder review. Follow these steps:</p>\n",
    "\n",
    "<ol>\n",
    "  <li><strong>Save your notebook.</strong></li>\n",
    "  <li><strong>Mark as Completed —</strong> In the blue menu bar along the top of this code exercise window, you’ll see a menu item called <strong>Education</strong>. In the <strong>Education</strong> menu, click <strong>Mark as Completed</strong> to submit your code for autograder/instructor review. This process will take a moment and a progress bar will show you the status of your submission.</li>\n",
    "\t<li><strong>Review your results —</strong> Once your work is marked as complete, the results of the autograder will automatically be presented in a new tab within the code exercise window. You can click on the assessment name in this feedback window to see more details regarding specific feedback/errors in your code submission.</li>\n",
    "  <li><strong>Repeat, if necessary —</strong> The Jupyter notebook will always remain accessible in the first tabbed window of the exercise. To reattempt the work, you will first need to click <strong>Mark as Uncompleted</strong> in the <strong>Education</strong> menu and then proceed to make edits to the notebook. Once you are ready to resubmit, follow steps one through three. You can repeat this procedure as many times as necessary.</li>\n",
    "</ol>"
   ]
  },
  {
   "cell_type": "markdown",
   "metadata": {
    "deletable": false,
    "editable": false,
    "nbgrader": {
     "checksum": "1e00eb7c66c8ca232c42f3246f1e23f9",
     "grade": false,
     "grade_id": "cell-484d568322c19544",
     "locked": true,
     "schema_version": 1,
     "solution": false
    }
   },
   "source": [
    "<h2>Import NumPy and Check Python Version</h2>\n",
    "\n",
    "First, you must import NumPy. Let's also check our version of Python. We've added the code for you for this first step."
   ]
  },
  {
   "cell_type": "code",
   "execution_count": 3,
   "metadata": {
    "deletable": false,
    "editable": false,
    "nbgrader": {
     "checksum": "dc4032eab01d1d76e9de325d30e5699f",
     "grade": false,
     "grade_id": "cell-855640210fb50121",
     "locked": true,
     "schema_version": 1,
     "solution": false
    }
   },
   "outputs": [
    {
     "name": "stdout",
     "output_type": "stream",
     "text": [
      "You're running python 3.6.8\n"
     ]
    }
   ],
   "source": [
    "import sys\n",
    "import numpy as np # Numpy is Python's built in library for matrix operations.\n",
    "from pylab import * \n",
    "sys.path.append('/home/codio/workspace/.modules')\n",
    "from helper import *\n",
    "print('You\\'re running python %s' % sys.version.split(' ')[0])"
   ]
  },
  {
   "cell_type": "markdown",
   "metadata": {
    "deletable": false,
    "editable": false,
    "nbgrader": {
     "checksum": "2a34773da172faef17167b461e470f8e",
     "grade": false,
     "grade_id": "cell-76ba5d8756566b5b",
     "locked": true,
     "schema_version": 1,
     "solution": false
    }
   },
   "source": [
    "## Euclidean Distances in Python\n",
    "\n",
    "Many machine learning algorithms access their input data primarily through pairwise (Euclidean) distances, therefore it is important that we have a fast function that computes pairwise distances of input vectors.\n",
    "\n",
    "Assume we have $n$ row data vectors $\\mathbf{x}_1, \\dotsc , \\mathbf{x}_n \\in \\mathbb{R}^d$ and $m$ row vectors $\\mathbf{z}_1, \\dotsc , \\mathbf{z}_m \\in \\mathbb{R}^d$. With these data vectors, let us define two matrices $\\mathbf{X} = \\left[ \\mathbf{x}_1, \\dotsc, \\mathbf{x}_n \\right]^\\top \\in \\mathbb{R}^{n \\times d}$, where the $i$-th row is vector $\\mathbf{x}_i$, and $\\mathbf{Z} = \\left[ \\mathbf{z}_1, \\dotsc , \\mathbf{z}_m \\right]^\\top \\in \\mathbb{R}^{m \\times d}$. We want a distance function that takes as input these two matrices $\\mathbf{X}$ and $\\mathbf{Z}$ and outputs a matrix $\\mathbf{D}\\in \\mathbb{R}^{n\\times m}$, where the entries of $\\mathbf{D}$ are given by\n",
    "\n",
    "$$\n",
    "\\mathbf{D}_{ij} = \\sqrt{ \\smash[b]{ \\left(\\mathbf{x}_i - \\mathbf{z}_j\\right)^\\top \\left(\\mathbf{x}_i - \\mathbf{z}_j\\right) } }\n",
    "$$"
   ]
  },
  {
   "cell_type": "markdown",
   "metadata": {
    "deletable": false,
    "editable": false,
    "nbgrader": {
     "checksum": "94f5161087aa0a72e1a6c0fda5a43e51",
     "grade": false,
     "grade_id": "cell-80d59217b0d669d1",
     "locked": true,
     "schema_version": 1,
     "solution": false
    }
   },
   "source": [
    "A naïve implementation to compute pairwise distances may look like the code below:"
   ]
  },
  {
   "cell_type": "code",
   "execution_count": 4,
   "metadata": {
    "deletable": false,
    "editable": false,
    "nbgrader": {
     "checksum": "f34233f540af1404dd432d2f13f72dfb",
     "grade": false,
     "grade_id": "cell-3724f30031f0f96e",
     "locked": true,
     "schema_version": 1,
     "solution": false
    }
   },
   "outputs": [],
   "source": [
    "def l2distanceSlow(X,Z=None):\n",
    "    if Z is None:\n",
    "        Z = X\n",
    "    \n",
    "    n, d = X.shape     # dimension of X\n",
    "    m= Z.shape[0]   # dimension of Z\n",
    "    D=np.zeros((n,m)) # allocate memory for the output matrix\n",
    "    for i in range(n):     # loop over vectors in X\n",
    "        for j in range(m): # loop over vectors in Z\n",
    "            D[i,j]=0.0; \n",
    "            for k in range(d): # loop over dimensions\n",
    "                D[i,j]=D[i,j]+(X[i,k]-Z[j,k])**2; # compute l2-distance between the ith and jth vector\n",
    "            D[i,j]=np.sqrt(D[i,j]); # take square root\n",
    "    return D"
   ]
  },
  {
   "cell_type": "markdown",
   "metadata": {
    "deletable": false,
    "editable": false,
    "nbgrader": {
     "checksum": "febf9c6b00243bdaf424e53d81326846",
     "grade": false,
     "grade_id": "cell-768d33132116bada",
     "locked": true,
     "schema_version": 1,
     "solution": false
    }
   },
   "source": [
    "Please read through the code above carefully and make sure you understand it. It is perfectly correct and will produce the correct result... eventually. To see what is wrong, try running the <code>l2distanceSlow</code> code below on an extremely small matrix <code>X</code>.\n"
   ]
  },
  {
   "cell_type": "code",
   "execution_count": 4,
   "metadata": {
    "deletable": false,
    "editable": false,
    "nbgrader": {
     "checksum": "e1c612af640ce3216262f792202cd2cd",
     "grade": false,
     "grade_id": "cell-1afe58e13cd02172",
     "locked": true,
     "schema_version": 1,
     "solution": false
    }
   },
   "outputs": [
    {
     "name": "stdout",
     "output_type": "stream",
     "text": [
      "Running the naive version, please wait...\n"
     ]
    },
    {
     "ename": "KeyboardInterrupt",
     "evalue": "",
     "output_type": "error",
     "traceback": [
      "\u001b[0;31m---------------------------------------------------------------------------\u001b[0m",
      "\u001b[0;31mKeyboardInterrupt\u001b[0m                         Traceback (most recent call last)",
      "\u001b[0;32m<timed exec>\u001b[0m in \u001b[0;36m<module>\u001b[0;34m()\u001b[0m\n",
      "\u001b[0;32m<ipython-input-3-4d3cb84a584c>\u001b[0m in \u001b[0;36ml2distanceSlow\u001b[0;34m(X, Z)\u001b[0m\n\u001b[1;32m     10\u001b[0m             \u001b[0mD\u001b[0m\u001b[0;34m[\u001b[0m\u001b[0mi\u001b[0m\u001b[0;34m,\u001b[0m\u001b[0mj\u001b[0m\u001b[0;34m]\u001b[0m\u001b[0;34m=\u001b[0m\u001b[0;36m0.0\u001b[0m\u001b[0;34m;\u001b[0m\u001b[0;34m\u001b[0m\u001b[0;34m\u001b[0m\u001b[0m\n\u001b[1;32m     11\u001b[0m             \u001b[0;32mfor\u001b[0m \u001b[0mk\u001b[0m \u001b[0;32min\u001b[0m \u001b[0mrange\u001b[0m\u001b[0;34m(\u001b[0m\u001b[0md\u001b[0m\u001b[0;34m)\u001b[0m\u001b[0;34m:\u001b[0m \u001b[0;31m# loop over dimensions\u001b[0m\u001b[0;34m\u001b[0m\u001b[0;34m\u001b[0m\u001b[0m\n\u001b[0;32m---> 12\u001b[0;31m                 \u001b[0mD\u001b[0m\u001b[0;34m[\u001b[0m\u001b[0mi\u001b[0m\u001b[0;34m,\u001b[0m\u001b[0mj\u001b[0m\u001b[0;34m]\u001b[0m\u001b[0;34m=\u001b[0m\u001b[0mD\u001b[0m\u001b[0;34m[\u001b[0m\u001b[0mi\u001b[0m\u001b[0;34m,\u001b[0m\u001b[0mj\u001b[0m\u001b[0;34m]\u001b[0m\u001b[0;34m+\u001b[0m\u001b[0;34m(\u001b[0m\u001b[0mX\u001b[0m\u001b[0;34m[\u001b[0m\u001b[0mi\u001b[0m\u001b[0;34m,\u001b[0m\u001b[0mk\u001b[0m\u001b[0;34m]\u001b[0m\u001b[0;34m-\u001b[0m\u001b[0mZ\u001b[0m\u001b[0;34m[\u001b[0m\u001b[0mj\u001b[0m\u001b[0;34m,\u001b[0m\u001b[0mk\u001b[0m\u001b[0;34m]\u001b[0m\u001b[0;34m)\u001b[0m\u001b[0;34m**\u001b[0m\u001b[0;36m2\u001b[0m\u001b[0;34m;\u001b[0m \u001b[0;31m# compute l2-distance between the ith and jth vector\u001b[0m\u001b[0;34m\u001b[0m\u001b[0;34m\u001b[0m\u001b[0m\n\u001b[0m\u001b[1;32m     13\u001b[0m             \u001b[0mD\u001b[0m\u001b[0;34m[\u001b[0m\u001b[0mi\u001b[0m\u001b[0;34m,\u001b[0m\u001b[0mj\u001b[0m\u001b[0;34m]\u001b[0m\u001b[0;34m=\u001b[0m\u001b[0mnp\u001b[0m\u001b[0;34m.\u001b[0m\u001b[0msqrt\u001b[0m\u001b[0;34m(\u001b[0m\u001b[0mD\u001b[0m\u001b[0;34m[\u001b[0m\u001b[0mi\u001b[0m\u001b[0;34m,\u001b[0m\u001b[0mj\u001b[0m\u001b[0;34m]\u001b[0m\u001b[0;34m)\u001b[0m\u001b[0;34m;\u001b[0m \u001b[0;31m# take square root\u001b[0m\u001b[0;34m\u001b[0m\u001b[0;34m\u001b[0m\u001b[0m\n\u001b[1;32m     14\u001b[0m     \u001b[0;32mreturn\u001b[0m \u001b[0mD\u001b[0m\u001b[0;34m\u001b[0m\u001b[0;34m\u001b[0m\u001b[0m\n",
      "\u001b[0;31mKeyboardInterrupt\u001b[0m: "
     ]
    }
   ],
   "source": [
    "X=np.random.rand(700,100)\n",
    "print(\"Running the naive version, please wait...\")\n",
    "%time Dslow=l2distanceSlow(X)"
   ]
  },
  {
   "cell_type": "markdown",
   "metadata": {
    "deletable": false,
    "editable": false,
    "nbgrader": {
     "checksum": "499bb88dcae73cff5c9450b31916868b",
     "grade": false,
     "grade_id": "cell-60d671b817b29b1c",
     "locked": true,
     "schema_version": 1,
     "solution": false
    }
   },
   "source": [
    "This code defines some random data in $\\mathbf{X}$ and computes the corresponding distance matrix $\\mathbf{D}$. The `%time` statement determines how long this code takes to run. This implementation is much too slow for such a simple operation on a small amount of data, and writing code like this to deal with matrices in this course will result in code that takes **days** to run.\n",
    "\n",
    "**As a general rule, you should avoid tight loops at all cost.** As you will see in the remainder of this exercise, you can do much better by performing bulk matrix operations using the NumPy package, which calls highly optimized compiled code behind the scenes."
   ]
  },
  {
   "cell_type": "markdown",
   "metadata": {
    "deletable": false,
    "editable": false,
    "nbgrader": {
     "checksum": "b9ddf2543b76b701af52ed19e7ddba06",
     "grade": false,
     "grade_id": "cell-4b648ecf382bce9f",
     "locked": true,
     "schema_version": 1,
     "solution": false
    }
   },
   "source": [
    "<h2> Efficient Programming with NumPy </h2>\n",
    "\n",
    "<p>Although there is an execution overhead per line in Python, matrix operations are optimized and fast. In order to successfully program in this course, you need to free yourself from \"for-loop\" thinking and start thinking in terms of matrix operations. Python for scientific computing can be very fast if almost all the time is spent on a few heavy duty matrix operations. In this exercise, you will transform the function above into a few matrix operations <em>without any loops at all.</em> </p> \n",
    "\n",
    "<p>The key to efficient programming in Python for machine learning in general is to think about it in terms of mathematics and not in terms of loops. </p>"
   ]
  },
  {
   "cell_type": "markdown",
   "metadata": {
    "deletable": false,
    "editable": false,
    "nbgrader": {
     "checksum": "4914c6fc8cf708e6c4907d93a62cf2d0",
     "grade": false,
     "grade_id": "cell-ccba76afed0964c4",
     "locked": true,
     "schema_version": 1,
     "solution": false
    }
   },
   "source": [
    "## Exercises\n",
    "\n",
    "In the following three exercises, you'll take the steps necessary to implement the euclidean distance function without loops.\n",
    "\n",
    "### Exercise 1: Inner-Product Matrix\n",
    "\n",
    "Show that the Inner-Product Matrix (Gram matrix) can be expressed in terms of pure matrix multiplication involving the matrices $\\mathbf{X}$ and $\\mathbf{Z}$. \n",
    "\n",
    "Recall that the entries of the Gram matrix $\\mathbf{G}$ are of the form:\n",
    "\n",
    "$$\n",
    "\\mathbf{G}_{ij}=\\mathbf{x}_i^\\top\\mathbf{z}_j\n",
    "$$\n",
    "\n",
    "Once you are done with the derivation, implement the function **`innerproduct`** below."
   ]
  },
  {
   "cell_type": "code",
   "execution_count": 5,
   "metadata": {
    "deletable": false,
    "nbgrader": {
     "checksum": "94f9fb0ec9ba184ef42b5cffc56c5981",
     "grade": false,
     "grade_id": "cell-Innerproduct",
     "locked": false,
     "schema_version": 1,
     "solution": true
    }
   },
   "outputs": [],
   "source": [
    "def innerproduct(X,Z=None):\n",
    "    '''\n",
    "    function innerproduct(X,Z)\n",
    "    \n",
    "    Computes the inner-product matrix.\n",
    "    Syntax:\n",
    "    D=innerproduct(X,Z)\n",
    "    Input:\n",
    "    X: nxd data matrix with n vectors (rows) of dimensionality d\n",
    "    Z: mxd data matrix with m vectors (rows) of dimensionality d\n",
    "    \n",
    "    Output:\n",
    "    Matrix G of size nxm\n",
    "    G[i,j] is the inner-product between vectors X[i,:] and Z[j,:]\n",
    "    \n",
    "    call with only one input:\n",
    "    innerproduct(X)=innerproduct(X,X)\n",
    "    '''\n",
    "    \n",
    "    if Z is None: # case when there is only one input (X)\n",
    "        Z=X;\n",
    "\n",
    "    # YOUR CODE HERE\n",
    "    # return np.matmul(X, Z)\n",
    "    # X = np.matrix_transpose(X)\n",
    "    \n",
    "    #ZT = Z.T\n",
    "    \n",
    "    # dot product\n",
    "    Y = np.dot(X, Z.T)\n",
    "    return Y\n",
    "    \n",
    "    # raise NotImplementedError()"
   ]
  },
  {
   "cell_type": "code",
   "execution_count": 6,
   "metadata": {
    "deletable": false,
    "editable": false,
    "nbgrader": {
     "checksum": "8f208ee9f100a432191833a78ec252ab",
     "grade": false,
     "grade_id": "cell-innerproduct_selftest",
     "locked": true,
     "schema_version": 1,
     "solution": false
    }
   },
   "outputs": [
    {
     "name": "stdout",
     "output_type": "stream",
     "text": [
      "Running Test: innerprod_0 Dimensions with 1 Matrix ... ✔ Passed!\n",
      "Running Test: innerprod_1 Dimensions with 2 Matrices ... ✔ Passed!\n",
      "Running Test: innerprod_2 Correctness with 1 Matrix ... ✔ Passed!\n",
      "Running Test: innerprod_3 Correctness with 2 Matrices ... ✔ Passed!\n"
     ]
    }
   ],
   "source": [
    "#Run this self-test cell to check your code\n",
    "\n",
    "def innerprod_0():\n",
    "    # test the output dimensions of innerproduct with one input matrix\n",
    "    X = np.random.rand(700,10) # define 700 random inputs X\n",
    "    test = (innerproduct(X).shape==700,700)    # check if inner-product matrix has dimension 700x700\n",
    "    return test\n",
    "\n",
    "def innerprod_1():\n",
    "    # test the output dimensions of innerproduct with two matrices\n",
    "    X = np.random.rand(700,10) # define 700 random inputs X\n",
    "    Z = np.random.rand(200,10) # define 200 random inputs Z \n",
    "    test=(innerproduct(X,Z).shape ==(700,200)) # check if inner-product matrix has dimensions 700x200\n",
    "    return test\n",
    "\n",
    "def innerprod_2():\n",
    "    X = np.random.rand(700,100) # define 700 random inputs X\n",
    "    IP1 = innerproduct(X) # compute inner-product matrix with YOUR code\n",
    "    IP2 = innerproduct_grader(X) # compute inner-product matrix with OUR code\n",
    "    test = np.linalg.norm(IP1 - IP2) # compute the norm of the difference\n",
    "    return test<1e-5 # this norm should be essentially 0\n",
    "\n",
    "def innerprod_3():\n",
    "    X = np.random.rand(700,100) # define 700 random inputs X\n",
    "    Z = np.random.rand(300,100) # define 300 random inputs X\n",
    "    IP1 = innerproduct(X,Z) # compute inner-product matrix with YOUR code\n",
    "    IP2 = innerproduct_grader(X,Z) # compute inner-product matrix with OUR code\n",
    "    test = np.linalg.norm(IP1 - IP2) # compute the norm of the difference\n",
    "    return test<1e-5 # this norm should be essentially 0\n",
    "\n",
    "\n",
    "runtest(innerprod_0,'innerprod_0 Dimensions with 1 Matrix')\n",
    "runtest(innerprod_1,'innerprod_1 Dimensions with 2 Matrices')\n",
    "runtest(innerprod_2,'innerprod_2 Correctness with 1 Matrix')\n",
    "runtest(innerprod_3,'innerprod_3 Correctness with 2 Matrices')"
   ]
  },
  {
   "cell_type": "code",
   "execution_count": 7,
   "metadata": {
    "deletable": false,
    "editable": false,
    "nbgrader": {
     "checksum": "3acdc575d89ed9efd32c662a3bdb1987",
     "grade": true,
     "grade_id": "cell-innerprod1_test",
     "locked": true,
     "points": 1,
     "schema_version": 1,
     "solution": false
    }
   },
   "outputs": [],
   "source": [
    "# Autograder test cell - worth 1 point\n",
    "# runs innerprod_1"
   ]
  },
  {
   "cell_type": "code",
   "execution_count": 8,
   "metadata": {
    "deletable": false,
    "editable": false,
    "nbgrader": {
     "checksum": "09ccb80243e75441b513950feaa7a0aa",
     "grade": true,
     "grade_id": "cell-innerprod2_test",
     "locked": true,
     "points": 1,
     "schema_version": 1,
     "solution": false
    }
   },
   "outputs": [],
   "source": [
    "# Autograder test cell - worth 1 Point\n",
    "# runs innerprod_2"
   ]
  },
  {
   "cell_type": "markdown",
   "metadata": {
    "deletable": false,
    "editable": false,
    "nbgrader": {
     "checksum": "69836d518ac8e5b611b54930d5db5412",
     "grade": false,
     "grade_id": "cell-7ccd44521656109e",
     "locked": true,
     "schema_version": 1,
     "solution": false
    }
   },
   "source": [
    "### Exercise 2: Implement `calculate_S` and `calculate_R`\n",
    "\n",
    "Recall that the *element-wise squared* Euclidean distance matrix $\\mathbf{D}\\odot\\mathbf{D} \\in \\mathbb{R}^{n \\times m}$ is defined by\n",
    "\n",
    "$$\n",
    "[\\mathbf{D}\\odot\\mathbf{D}]_{ij} = \\left(\\mathbf{x}_i - \\mathbf{z}_j\\right)^\\top \\left(\\mathbf{x}_i - \\mathbf{z}_j\\right)\n",
    "$$\n",
    "\n",
    "Also, the matrices $\\mathbf{S}, \\mathbf{R} \\in \\mathbb{R}^{n \\times m}$ are defined by\n",
    "\n",
    "$$\n",
    "\\mathbf{S}_{ij} = \\mathbf{x}_i^\\top \\mathbf{x}_i^ \n",
    "\\quad \\text{and} \\quad \n",
    "\\mathbf{R}_{ij} = \\mathbf{z}_j^\\top \\mathbf{z}_j\n",
    "$$\n",
    "\n",
    "In the previous activity, we showed that\n",
    "\n",
    "$$\n",
    "\\mathbf{D}\\odot\\mathbf{D} = \\mathbf{S} + \\mathbf{R} - 2\\mathbf{G}\n",
    "$$\n",
    "\n",
    "Later in this exercise, you will implement `l2distance` to calculate $\\mathbf{D}$. But you will need $\\mathbf{S}$ and $\\mathbf{R}$, which you will implement now in **`calculate_S`** and **`calculate_R`**, respectively. Ensure that your functions return $\\mathbf{S}$ and $\\mathbf{R}$ of size $n \\times m$, as they will be added to $-2\\mathbf{G}$ to get $\\mathbf{D}\\odot\\mathbf{D}$.\n",
    "\n",
    "Think about what the $\\mathbf{S}$ and $\\mathbf{R}$ matrices look like. You will find that the values in each row of $\\mathbf{S}$ and the values in each column of $\\mathbf{R}$ do not change! This is also apparent when considering that $\\mathbf{S}_{ij} = \\mathbf{x}_i^\\top \\mathbf{x}_i$ *for all* $j$; similar argument for $\\mathbf{R}_{ij} = \\mathbf{z}_j^\\top \\mathbf{z}_j$ *for all* $i$. That is,\n",
    "\n",
    "$$\n",
    "\\mathbf{S} = \n",
    "\\begin{bmatrix}\n",
    "\\mathbf{x}_1^\\top \\mathbf{x}_1 & \\mathbf{x}_1^\\top \\mathbf{x}_1 & \\cdots & \\mathbf{x}_1^\\top \\mathbf{x}_1 \\\\[5pt]\n",
    "\\mathbf{x}_2^\\top \\mathbf{x}_2 & \\mathbf{x}_2^\\top \\mathbf{x}_2 & \\cdots & \\mathbf{x}_2^\\top \\mathbf{x}_2 \\\\\n",
    "\\vdots & \\vdots & \\ddots & \\vdots \\\\\n",
    "\\mathbf{x}_n^\\top \\mathbf{x}_n & \\mathbf{x}_n^\\top \\mathbf{x}_n & \\cdots & \\mathbf{x}_n^\\top \\mathbf{x}_n\n",
    "\\end{bmatrix}\n",
    "\\quad \\text{and} \\quad\n",
    "\\mathbf{R} = \n",
    "\\begin{bmatrix}\n",
    "\\mathbf{z}_1^\\top \\mathbf{z}_1 & \\mathbf{z}_2^\\top \\mathbf{z}_2 & \\cdots & \\mathbf{z}_m^\\top \\mathbf{z}_m \\\\[5pt]\n",
    "\\mathbf{z}_1^\\top \\mathbf{z}_1 & \\mathbf{z}_2^\\top \\mathbf{z}_2 & \\cdots & \\mathbf{z}_m^\\top \\mathbf{z}_m \\\\\n",
    "\\vdots & \\vdots & \\ddots & \\vdots \\\\\n",
    "\\mathbf{z}_1^\\top \\mathbf{z}_1 & \\mathbf{z}_2^\\top \\mathbf{z}_2 & \\cdots & \\mathbf{z}_m^\\top \\mathbf{z}_m\n",
    "\\end{bmatrix}\n",
    "$$\n",
    "\n",
    "Now you just need to figure out how to calculate $\\mathbf{x}_i^\\top \\mathbf{x}_i$ and $\\mathbf{z}_j^\\top \\mathbf{z}_j$ without loops. You might find the fact $\\mathbf{a}^\\top \\mathbf{a} = \\sum_{k=1}^d a_k^2$ and repeat function [`np.repeat`](https://numpy.org/doc/stable/reference/generated/numpy.repeat.html) (and its `axis` parameter) useful."
   ]
  },
  {
   "cell_type": "code",
   "execution_count": 9,
   "metadata": {
    "deletable": false,
    "nbgrader": {
     "checksum": "57863e0429bf9183b3e59645dc7d1aa5",
     "grade": false,
     "grade_id": "cell-ad35945b84010be6",
     "locked": false,
     "schema_version": 1,
     "solution": true
    }
   },
   "outputs": [],
   "source": [
    "def calculate_S(X, n, m):\n",
    "    '''\n",
    "    function calculate_S(X)\n",
    "    \n",
    "    Computes the S matrix.\n",
    "    Syntax:\n",
    "    S=calculate_S(X)\n",
    "    Input:\n",
    "    X: nxd data matrix with n vectors (rows) of dimensionality d\n",
    "    n: number of rows in X\n",
    "    m: output number of columns in S\n",
    "    \n",
    "    Output:\n",
    "    Matrix S of size nxm\n",
    "    S[i,j] is the inner-product between vectors X[i,:] and X[i,:]\n",
    "    '''\n",
    "    assert n == X.shape[0]\n",
    "    \n",
    "    # YOUR CODE HERE\n",
    "    \n",
    "    #calculate inner product of vectors\n",
    "    # square each number in first row and add per row \n",
    "    \n",
    "    #np.dot(Z, T)\n",
    "    #A = np.inner(x[0], y)\n",
    "    # copy row of S down across S\n",
    "    \n",
    "    S = np.sum(np.square(X), axis = 1)\n",
    "    S = S.reshape(n, 1)\n",
    "    S = S.repeat(m, axis = 1)\n",
    "    return S\n",
    "    \n",
    "    \n",
    "    # raise NotImplementedError()"
   ]
  },
  {
   "cell_type": "code",
   "execution_count": 20,
   "metadata": {
    "deletable": false,
    "nbgrader": {
     "checksum": "21ee417f3e7e3a4af6e9ac5069836448",
     "grade": false,
     "grade_id": "cell-71bac061cc8edccb",
     "locked": false,
     "schema_version": 1,
     "solution": true
    }
   },
   "outputs": [],
   "source": [
    "def calculate_R(Z, n, m):\n",
    "    '''\n",
    "    function calculate_R(Z)\n",
    "    \n",
    "    Computes the R matrix.\n",
    "    Syntax:\n",
    "    R=calculate_R(Z)\n",
    "    Input:\n",
    "    Z: mxd data matrix with m vectors (rows) of dimensionality d\n",
    "    n: output number of rows in Z\n",
    "    m: number of rows in Z\n",
    "    \n",
    "    Output:\n",
    "    Matrix R of size nxm\n",
    "    R[i,j] is the inner-product between vectors Z[j,:] and Z[j,:]\n",
    "    '''\n",
    "    assert m == Z.shape[0]\n",
    "    \n",
    "    # YOUR CODE HERE\n",
    "    R = np.sum(np.square(Z), axis = 1)\n",
    "    #R = R.reshape(n, 1)\n",
    "    #R = R.repeat(n, axis = 0)\n",
    "    R = np.tile(R, (n, 1))\n",
    "    #found tile method using numpy documentation\n",
    "    return R\n",
    "    #raise NotImplementedError()"
   ]
  },
  {
   "cell_type": "code",
   "execution_count": 21,
   "metadata": {
    "deletable": false,
    "editable": false,
    "nbgrader": {
     "checksum": "d8ff78221c2ad019f28045ef4af6c0e5",
     "grade": false,
     "grade_id": "cell-f15e7fc77eba9213",
     "locked": true,
     "schema_version": 1,
     "solution": false
    }
   },
   "outputs": [
    {
     "name": "stdout",
     "output_type": "stream",
     "text": [
      "Running Test: calculate_S_dimensions ... ✔ Passed!\n",
      "Running Test: calculate_S_accuracy ... ✔ Passed!\n",
      "Running Test: calculate_R_dimensions ... ✔ Passed!\n",
      "Running Test: calculate_R_accuracy ... ✔ Passed!\n"
     ]
    }
   ],
   "source": [
    "#Run this self-test cell to check your code\n",
    "\n",
    "def calculate_S_dimensions():\n",
    "    X = np.random.rand(700,100) # define random inputs\n",
    "    Z = np.random.rand(800,100) # define random inputs\n",
    "    n,d1=X.shape\n",
    "    m,d2=Z.shape    \n",
    "    S1 = calculate_S(X, n, m) # compute distances from your solutions\n",
    "    o1,o2=S1.shape\n",
    "    return (o1==n) and (o2==m)\n",
    "\n",
    "def calculate_S_accuracy():\n",
    "    X = np.random.rand(700,100) # define random inputs\n",
    "    S1 = calculate_S(X, X.shape[0], 800) # compute distances from your solutions\n",
    "    S2 = calculate_S_grader(X, X.shape[0], 800) #compute distance from ground truth\n",
    "    test = np.linalg.norm(S1 - S2) # compare the two\n",
    "    return test<1e-5 # difference should be small\n",
    "\n",
    "def calculate_R_dimensions():\n",
    "    X = np.random.rand(700,100) # define random inputs\n",
    "    Z = np.random.rand(800,100) # define random inputs\n",
    "    n,d1=X.shape\n",
    "    m,d2=Z.shape    \n",
    "    R1 = calculate_R(Z, n, m) # compute distances from your solutions\n",
    "    o1,o2=R1.shape\n",
    "    return (o1==n) and (o2==m)\n",
    "\n",
    "def calculate_R_accuracy():\n",
    "    Z = np.random.rand(800,100) # define random inputs\n",
    "    R1 = calculate_R(Z, 700, Z.shape[0]) # compute distances from your solutions\n",
    "    R2 = calculate_R_grader(Z, 700, Z.shape[0]) #compute distance from ground truth\n",
    "    test = np.linalg.norm(R1 - R2) # compare the two\n",
    "    return test<1e-5 # difference should be small\n",
    "\n",
    "runtest(calculate_S_dimensions,'calculate_S_dimensions')\n",
    "runtest(calculate_S_accuracy,'calculate_S_accuracy')\n",
    "runtest(calculate_R_dimensions,'calculate_R_dimensions')\n",
    "runtest(calculate_R_accuracy,'calculate_R_accuracy')"
   ]
  },
  {
   "cell_type": "markdown",
   "metadata": {
    "deletable": false,
    "editable": false,
    "nbgrader": {
     "checksum": "9c1f9455f83552de4e40fd62f8b42078",
     "grade": false,
     "grade_id": "cell-f60131523293838d",
     "locked": true,
     "schema_version": 1,
     "solution": false
    }
   },
   "source": [
    "### Exercise 3: Implement `l2distance`\n",
    "\n",
    "    \n",
    "In this exercise, you will use the above formula to implement the function **`l2distance`**, which computes the Euclidean distance matrix $\\mathbf{D}$ without a single loop.\n",
    "\n",
    "Recall that the element-wise square of $\\mathbf{D}$ is of the form\n",
    "\n",
    "$$\n",
    "\\mathbf{D}\\odot\\mathbf{D} = \\mathbf{S} + \\mathbf{R} - 2\\mathbf{G}\n",
    "$$\n",
    "\n",
    "and the entries of $\\mathbf{D}$ are\n",
    "\n",
    "$$\n",
    "\\mathbf{D}_{ij} = \\sqrt{ \\smash[b]{[\\mathbf{D}\\odot\\mathbf{D}]_{ij}} } \n",
    "$$\n",
    "\n",
    "**Hint:** Make sure that all entries of $\\mathbf{D}$ are non-negative after you take the square root $\\sqrt{ \\smash[b]{[\\mathbf{D}\\odot\\mathbf{D}]_{ij}} }$ because sometimes very small positive numbers can become negative due to numerical imprecision. Since all distances must be non-negative, you can simply overwrite all negative values with `0.0` to avoid unintended consequences."
   ]
  },
  {
   "cell_type": "code",
   "execution_count": 48,
   "metadata": {
    "deletable": false,
    "nbgrader": {
     "checksum": "f979bdfb91b4904a15f330e26efd3ee8",
     "grade": false,
     "grade_id": "cell-l2distance",
     "locked": false,
     "schema_version": 1,
     "solution": true
    }
   },
   "outputs": [],
   "source": [
    "def l2distance(X,Z=None):\n",
    "    '''\n",
    "    function D=l2distance(X,Z)\n",
    "    \n",
    "    Computes the Euclidean distance matrix.\n",
    "    Syntax:\n",
    "    D=l2distance(X,Z)\n",
    "    Input:\n",
    "    X: nxd data matrix with n vectors (rows) of dimensionality d\n",
    "    Z: mxd data matrix with m vectors (rows) of dimensionality d\n",
    "    \n",
    "    Output:\n",
    "    Matrix D of size nxm\n",
    "    D(i,j) is the Euclidean distance of X(i,:) and Z(j,:)\n",
    "    \n",
    "    call with only one input:\n",
    "    l2distance(X)=l2distance(X,X)\n",
    "    '''\n",
    "    if Z is None:\n",
    "        Z=X;\n",
    "\n",
    "    n,d1=X.shape\n",
    "    m,d2=Z.shape\n",
    "    assert (d1==d2), \"Dimensions of input vectors must match!\"\n",
    "\n",
    "    \n",
    "    # YOUR CODE HERE\n",
    "    S = calculate_S(X, X.shape[0], Z.shape[0])\n",
    "    R = calculate_R(Z, X.shape[0], Z.shape[0])\n",
    "    G = innerproduct(X, Z)\n",
    "    D = S + R - 2*G\n",
    "    D[D < 0] = 0.0\n",
    "    D = np.sqrt(D)\n",
    "    \n",
    "    #set neg values in D to 0.0\n",
    "    D[D < 0] = 0.0\n",
    "    #raise NotImplementedError()\n",
    "    return D"
   ]
  },
  {
   "cell_type": "code",
   "execution_count": 49,
   "metadata": {
    "deletable": false,
    "editable": false,
    "nbgrader": {
     "checksum": "5a4c4b35c27628313c5c00ddedd46a5a",
     "grade": false,
     "grade_id": "cell-l2distance_selftest",
     "locked": true,
     "schema_version": 1,
     "solution": false
    }
   },
   "outputs": [
    {
     "name": "stdout",
     "output_type": "stream",
     "text": [
      "Running Test: distance_accuracy ... ✔ Passed!\n",
      "Running Test: distance_squareroot ... ✔ Passed!\n",
      "Running Test: dimensions ... ✔ Passed!\n",
      "Running Test: matrix_dist_accuracy ... ✔ Passed!\n"
     ]
    }
   ],
   "source": [
    "#Run this self-test cell to check your code\n",
    "\n",
    "def distance_accuracy(): \n",
    "    X = np.random.rand(700,100) # define random inputs\n",
    "    D1 = l2distance(X) # compute distances from your solutions\n",
    "    D2 = l2distance_grader(X) #compute distance from ground truth\n",
    "    test = np.linalg.norm(D1 - D2) # compare the two\n",
    "    return test<1e-5 # difference should be small\n",
    "\n",
    "def distance_squareroot():  \n",
    "    X = np.random.rand(700,100) # define random inputs\n",
    "    D1 = l2distance(X) # compute distances from your solutions\n",
    "    D2sq = l2distance_grader(X)**2 #compute distance from ground truth *but square them*\n",
    "    test = np.linalg.norm(D1 - D2sq) # compare the two\n",
    "    return test>1e-5 # difference should be big\n",
    "\n",
    "def dimensions():\n",
    "    X = np.random.rand(700,100) # define random inputs\n",
    "    Z = np.random.rand(800,100) # define random inputs\n",
    "    n,d1=X.shape\n",
    "    m,d2=Z.shape    \n",
    "    D1 = l2distance(X,Z) # compute distances from your solutions\n",
    "    o1,o2=D1.shape\n",
    "    return (o1==n) and (o2==m)\n",
    "\n",
    "def matrix_dist_accuracy():\n",
    "    X = np.random.rand(700,100)\n",
    "    Z = np.random.rand(300,100)\n",
    "    D1Z = l2distance(X,Z)\n",
    "    D2Z = l2distance_grader(X,Z)\n",
    "    test = np.linalg.norm(D1Z - D2Z)\n",
    "    return test<1e-5\n",
    "\n",
    "runtest(distance_accuracy,'distance_accuracy')\n",
    "runtest(distance_squareroot,'distance_squareroot')\n",
    "runtest(dimensions,'dimensions')\n",
    "runtest(matrix_dist_accuracy,'matrix_dist_accuracy')"
   ]
  },
  {
   "cell_type": "code",
   "execution_count": 50,
   "metadata": {
    "deletable": false,
    "editable": false,
    "nbgrader": {
     "checksum": "0ee0b6fb15341d4e8490e76c1c69d4be",
     "grade": true,
     "grade_id": "cell-distance_accuracy_test",
     "locked": true,
     "points": 1,
     "schema_version": 1,
     "solution": false
    }
   },
   "outputs": [],
   "source": [
    "# Autograder test cell - worth 1 Point\n",
    "# runs distance_accuracy"
   ]
  },
  {
   "cell_type": "code",
   "execution_count": 29,
   "metadata": {
    "deletable": false,
    "editable": false,
    "nbgrader": {
     "checksum": "2f3831fb6b928d391401df2babb8c3cd",
     "grade": true,
     "grade_id": "cell-distance_squareroot_test",
     "locked": true,
     "points": 1,
     "schema_version": 1,
     "solution": false
    }
   },
   "outputs": [],
   "source": [
    "# Autograder test cell - worth 1 Point\n",
    "# runs distance_squareroot"
   ]
  },
  {
   "cell_type": "code",
   "execution_count": 30,
   "metadata": {
    "deletable": false,
    "editable": false,
    "nbgrader": {
     "checksum": "7c037ba4dace229454b468217416ac05",
     "grade": true,
     "grade_id": "cell-dimensions_test",
     "locked": true,
     "points": 1,
     "schema_version": 1,
     "solution": false
    }
   },
   "outputs": [],
   "source": [
    "# Autograder test cell - worth 1 Point\n",
    "# runs dimensions"
   ]
  },
  {
   "cell_type": "code",
   "execution_count": 31,
   "metadata": {
    "deletable": false,
    "editable": false,
    "nbgrader": {
     "checksum": "3d5805fe452316d52a03e5f03cdc850d",
     "grade": true,
     "grade_id": "cell-matrix_dist_accuracy_test",
     "locked": true,
     "points": 1,
     "schema_version": 1,
     "solution": false
    }
   },
   "outputs": [],
   "source": [
    "# Autograder test cell - worth 1 Point\n",
    "# runs matrix_dist_accuracy"
   ]
  },
  {
   "cell_type": "markdown",
   "metadata": {
    "deletable": false,
    "editable": false,
    "nbgrader": {
     "checksum": "02911c3e104ce1ede5f992f36ee10355",
     "grade": false,
     "grade_id": "cell-aea442b17bc8042e",
     "locked": true,
     "schema_version": 1,
     "solution": false
    }
   },
   "source": [
    "Let's now compare the speed of your `l2distance` function against the previous naïve implementation:"
   ]
  },
  {
   "cell_type": "code",
   "execution_count": null,
   "metadata": {},
   "outputs": [
    {
     "name": "stdout",
     "output_type": "stream",
     "text": [
      "Running the naïve version...\n"
     ]
    }
   ],
   "source": [
    "import time\n",
    "current_time = lambda: int(round(time.time() * 1000))\n",
    "\n",
    "X=np.random.rand(700,100)\n",
    "Z=np.random.rand(300,100)\n",
    "\n",
    "print(\"Running the naïve version...\")\n",
    "before = current_time()\n",
    "Dslow=l2distanceSlow(X)\n",
    "after = current_time()\n",
    "t_slow = after - before\n",
    "print(\"{:2.0f} ms\".format(t_slow))\n",
    "\n",
    "print(\"Running the vectorized version...\")\n",
    "before = current_time()\n",
    "Dfast=l2distance(X)\n",
    "after = current_time()\n",
    "t_fast = after - before\n",
    "print(\"{:2.0f} ms\".format(t_fast))\n",
    "\n",
    "\n",
    "speedup = t_slow / t_fast\n",
    "print(\"The two methods should deviate by very little: {:05.6f}\".format(norm(Dfast-Dslow)))\n",
    "print(\"but your NumPy code was {:05.2f} times faster!\".format(speedup))"
   ]
  },
  {
   "cell_type": "markdown",
   "metadata": {
    "deletable": false,
    "editable": false,
    "nbgrader": {
     "checksum": "aed590efa6e1795b5d3ab26bc53b8577",
     "grade": false,
     "grade_id": "cell-ac9dc5c3b6c424f3",
     "locked": true,
     "schema_version": 1,
     "solution": false
    }
   },
   "source": [
    "How much faster is your code now? With this implementation, you should easily be able to compute the distances between <strong>many more</strong> vectors. It should be clear now, even for small datasets, that the for-loop based implementation could take several days or even weeks to perform basic operations that take seconds or minutes with well-written NumPy code."
   ]
  }
 ],
 "metadata": {
  "anaconda-cloud": {},
  "kernelspec": {
   "display_name": "Python 3",
   "language": "python",
   "name": "python3"
  },
  "language_info": {
   "codemirror_mode": {
    "name": "ipython",
    "version": 3
   },
   "file_extension": ".py",
   "mimetype": "text/x-python",
   "name": "python",
   "nbconvert_exporter": "python",
   "pygments_lexer": "ipython3",
   "version": "3.6.8"
  }
 },
 "nbformat": 4,
 "nbformat_minor": 4
}
